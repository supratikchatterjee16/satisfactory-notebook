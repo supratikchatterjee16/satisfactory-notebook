{
 "cells": [
  {
   "cell_type": "code",
   "execution_count": null,
   "id": "e19c0b83-1b00-46d0-b921-72c2cce63f34",
   "metadata": {},
   "outputs": [],
   "source": [
    "# Sourcing manufacturable recipes from wiki\n",
    "import sys  \n",
    "sys.path.insert(0, 'modules/')\n",
    "import source\n",
    "df = source.recipes_from_wiki(filepath='res/data/personal_collection/resources/manufacturables.csv')\n",
    "df.head(5)"
   ]
  }
 ],
 "metadata": {
  "kernelspec": {
   "display_name": "Python 3 (ipykernel)",
   "language": "python",
   "name": "python3"
  },
  "language_info": {
   "codemirror_mode": {
    "name": "ipython",
    "version": 3
   },
   "file_extension": ".py",
   "mimetype": "text/x-python",
   "name": "python",
   "nbconvert_exporter": "python",
   "pygments_lexer": "ipython3",
   "version": "3.9.7"
  }
 },
 "nbformat": 4,
 "nbformat_minor": 5
}
